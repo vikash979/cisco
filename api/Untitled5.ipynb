{
 "cells": [
  {
   "cell_type": "code",
   "execution_count": 8,
   "metadata": {},
   "outputs": [
    {
     "name": "stdout",
     "output_type": "stream",
     "text": [
      "[6]\n",
      "22\n"
     ]
    }
   ],
   "source": [
    "\n",
    "a = [1,2,3,4,5,7]\n",
    "\n",
    "n = len(a)\n",
    "s = 0\n",
    "for x in range(n):\n",
    "\ts  = s+a[x]\n",
    "\n",
    "    \n",
    "dd = [x for x in range(a[0], a[-1]+1)if x not in a]\n",
    "print(dd)\n",
    "    \n",
    "\n",
    "print(s)\n"
   ]
  },
  {
   "cell_type": "code",
   "execution_count": 9,
   "metadata": {},
   "outputs": [
    {
     "name": "stdout",
     "output_type": "stream",
     "text": [
      "[6]\n",
      "2nd methopd\n",
      "6\n"
     ]
    }
   ],
   "source": [
    "a = [1,2,3,4,5,7]\n",
    "\n",
    "missng_value = [x for x in range(a[0], a[-1]+1)if x not in a]\n",
    "print(missng_value)\n",
    "\n",
    "print(\"2nd methopd\")\n",
    "\n",
    "for x in range(a[0], a[-1]+1):\n",
    "\tif x not in a:\n",
    "\t\tprint(x)\n"
   ]
  },
  {
   "cell_type": "code",
   "execution_count": 10,
   "metadata": {},
   "outputs": [
    {
     "name": "stdout",
     "output_type": "stream",
     "text": [
      "2\n",
      "4\n",
      "5\n",
      "6\n",
      "8\n",
      "10\n",
      "12\n",
      "14\n",
      "15\n",
      "16\n",
      "18\n",
      "20\n",
      "22\n",
      "24\n",
      "25\n",
      "26\n",
      "28\n"
     ]
    }
   ],
   "source": [
    "for x in range(1,30):\n",
    "    if ((x%2==0) or (x % 5 ==0)):\n",
    "        print(x)"
   ]
  },
  {
   "cell_type": "code",
   "execution_count": 12,
   "metadata": {},
   "outputs": [
    {
     "name": "stdout",
     "output_type": "stream",
     "text": [
      "[2, 4, 5, 6, 8, 10, 12, 14, 15, 16, 18, 20, 22, 24, 25, 26, 28]\n"
     ]
    }
   ],
   "source": [
    "divided_value = [x for x in range(1,30) if ((x%2==0) or (x % 5 ==0)) ]\n",
    "print(divided_value)"
   ]
  },
  {
   "cell_type": "code",
   "execution_count": 16,
   "metadata": {},
   "outputs": [
    {
     "name": "stdout",
     "output_type": "stream",
     "text": [
      "0\n",
      "1\n",
      "1\n",
      "2\n",
      "3\n",
      "5\n"
     ]
    }
   ],
   "source": [
    "def fibnoci(n):\n",
    "    a, b = 0, 1\n",
    "    while a < n: \n",
    "        yield a\n",
    "        a, b = b, a + b\n",
    "\n",
    "        \n",
    "\n",
    "for x in fibnoci(6):\n",
    "    print(x)"
   ]
  },
  {
   "cell_type": "code",
   "execution_count": 26,
   "metadata": {},
   "outputs": [
    {
     "name": "stdout",
     "output_type": "stream",
     "text": [
      "<function factorial at 0x7f2ec417da60>\n",
      "1.6689300537109375e-06\n",
      "0.0001201629638671875\n",
      "0.0003273487091064453\n",
      "0.010421276092529297\n",
      "0.010492086410522461\n",
      "0.010534286499023438\n",
      "0.010572671890258789\n"
     ]
    },
    {
     "data": {
      "text/plain": [
       "720"
      ]
     },
     "execution_count": 26,
     "metadata": {},
     "output_type": "execute_result"
    }
   ],
   "source": [
    "from functools import wraps\n",
    "from time import time\n",
    "\n",
    "def timing(f):\n",
    "    print(f)\n",
    "    @wraps(f)\n",
    "    def wrapper(*args, **kwargs):\n",
    "        start = time()\n",
    "        result = f(*args, **kwargs)\n",
    "        end = time()\n",
    "        print(end-start)\n",
    "        return result\n",
    "    return wrapper\n",
    "\n",
    "@timing\n",
    "def factorial(n):\n",
    "    if n ==0:\n",
    "        return 1\n",
    "    \n",
    "    return n * factorial(n-1) \n",
    "        \n",
    "factorial(6)\n",
    "\n"
   ]
  },
  {
   "cell_type": "code",
   "execution_count": null,
   "metadata": {},
   "outputs": [],
   "source": []
  }
 ],
 "metadata": {
  "kernelspec": {
   "display_name": "Python 3",
   "language": "python",
   "name": "python3"
  },
  "language_info": {
   "codemirror_mode": {
    "name": "ipython",
    "version": 3
   },
   "file_extension": ".py",
   "mimetype": "text/x-python",
   "name": "python",
   "nbconvert_exporter": "python",
   "pygments_lexer": "ipython3",
   "version": "3.6.9"
  }
 },
 "nbformat": 4,
 "nbformat_minor": 4
}
