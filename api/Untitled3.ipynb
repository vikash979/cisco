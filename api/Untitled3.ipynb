{
 "cells": [
  {
   "cell_type": "code",
   "execution_count": 33,
   "metadata": {},
   "outputs": [
    {
     "name": "stdout",
     "output_type": "stream",
     "text": [
      "[2, 3, 5, 7, 11, 13, 17, 19, 23, 29, 31, 37, 41, 43, 47, 53, 59, 61, 67, 71, 73, 79, 83, 89, 97]\n"
     ]
    }
   ],
   "source": [
    "prime_data =[]\n",
    "for num in range(2, 100):\n",
    "    if num > 0:\n",
    "       for i in range(2, num):\n",
    "           if (num % i) == 0:\n",
    "               break\n",
    "       else:\n",
    "           prime_data.append(num)\n",
    "  \n",
    "#    if num > 0:\n",
    "#        for i in range(2, num):\n",
    "        \n",
    "#         if (num % i) == 0:\n",
    "#              break\n",
    "#         else:\n",
    "#             prime_data.append(num)\n",
    "\n",
    "      \n",
    "            \n",
    "print(prime_data)"
   ]
  },
  {
   "cell_type": "code",
   "execution_count": 71,
   "metadata": {},
   "outputs": [
    {
     "name": "stdout",
     "output_type": "stream",
     "text": [
      "yob doog a si mar\n"
     ]
    }
   ],
   "source": [
    "ra = \"ram is a good boy\"\n",
    "aa = ra.split(\" \")\n",
    "ll =[]\n",
    "strr = ''\n",
    "for x in reversed(ra):\n",
    "    strr  = strr + x\n",
    "    \n",
    "print(strr)\n",
    "   \n",
    "    \n",
    "\n",
    "    \n",
    "    \n",
    "    "
   ]
  },
  {
   "cell_type": "code",
   "execution_count": 72,
   "metadata": {},
   "outputs": [
    {
     "name": "stdout",
     "output_type": "stream",
     "text": [
      "yob doog a si mar\n"
     ]
    }
   ],
   "source": [
    "ra = \"ram is a good boy\"\n",
    "print(ra[::-1])"
   ]
  },
  {
   "cell_type": "code",
   "execution_count": 77,
   "metadata": {},
   "outputs": [
    {
     "name": "stdout",
     "output_type": "stream",
     "text": [
      "yob doog a si mar\n"
     ]
    }
   ],
   "source": [
    "ra = \"ram is a good boy\"\n",
    "aaa =len(ra)\n",
    "strr = ''\n",
    "for x in reversed(range(aaa)):\n",
    "    dd =ra[x]\n",
    "    for y in dd:\n",
    "        strr  =  strr+y\n",
    "print(strr)"
   ]
  },
  {
   "cell_type": "code",
   "execution_count": 81,
   "metadata": {},
   "outputs": [
    {
     "name": "stdout",
     "output_type": "stream",
     "text": [
      "[1, 2, 4]\n",
      "[6, 8, 12]\n",
      "[15, 19]\n"
     ]
    }
   ],
   "source": [
    "a  = [1,2,4,6,8,12,15,19]\n",
    "for i in range(0,len(a),3):\n",
    "    tt = a[i:i+3]\n",
    "    print(tt)"
   ]
  },
  {
   "cell_type": "code",
   "execution_count": 87,
   "metadata": {},
   "outputs": [
    {
     "name": "stdout",
     "output_type": "stream",
     "text": [
      "120\n"
     ]
    }
   ],
   "source": [
    "n = 5\n",
    "first =1\n",
    "tmp = ''\n",
    "for x in reversed (range(n+1)):\n",
    "    if  x > 0:\n",
    "        tmp = x*first\n",
    "        first = tmp\n",
    "print(first)\n",
    "        "
   ]
  },
  {
   "cell_type": "code",
   "execution_count": 5,
   "metadata": {},
   "outputs": [
    {
     "name": "stdout",
     "output_type": "stream",
     "text": [
      "\r\n",
      "1 \r\n",
      "2 2 \r\n",
      "3 3 3 \r\n",
      "4 4 4 4 \r\n",
      "5 5 5 5 5 \r\n",
      "6 6 6 6 6 6 \r\n",
      "7 7 7 7 7 7 7 \r\n",
      "8 8 8 8 8 8 8 8 \r\n",
      "9 9 9 9 9 9 9 9 9 \r\n"
     ]
    }
   ],
   "source": [
    "for x in range(10):\n",
    "    for y in range(x):\n",
    "        print(x, end=\" \")\n",
    "        \n",
    "    print(\"\\r\")"
   ]
  },
  {
   "cell_type": "code",
   "execution_count": 8,
   "metadata": {},
   "outputs": [
    {
     "name": "stdout",
     "output_type": "stream",
     "text": [
      "\r\n",
      "\r\n",
      "1 \r\n",
      "1 2 \r\n",
      "1 2 3 \r\n",
      "1 2 3 4 \r\n",
      "1 2 3 4 5 \r\n"
     ]
    }
   ],
   "source": [
    "for x in range(7):\n",
    "    for y in range(1,x):\n",
    "        print(y, end=\" \")\n",
    "        \n",
    "    print(\"\\r\")"
   ]
  },
  {
   "cell_type": "code",
   "execution_count": null,
   "metadata": {},
   "outputs": [],
   "source": []
  }
 ],
 "metadata": {
  "kernelspec": {
   "display_name": "Python 3",
   "language": "python",
   "name": "python3"
  },
  "language_info": {
   "codemirror_mode": {
    "name": "ipython",
    "version": 3
   },
   "file_extension": ".py",
   "mimetype": "text/x-python",
   "name": "python",
   "nbconvert_exporter": "python",
   "pygments_lexer": "ipython3",
   "version": "3.6.9"
  }
 },
 "nbformat": 4,
 "nbformat_minor": 4
}
