{
 "cells": [
  {
   "cell_type": "code",
   "execution_count": 4,
   "metadata": {},
   "outputs": [
    {
     "name": "stdout",
     "output_type": "stream",
     "text": [
      "\r\n",
      "1\r\n",
      "22\r\n",
      "333\r\n",
      "4444\r\n",
      "55555\r\n"
     ]
    }
   ],
   "source": [
    "for x in range(6):\n",
    "    for y in range(x):\n",
    "        print(x, end ='')\n",
    "    print(\"\\r\")"
   ]
  },
  {
   "cell_type": "code",
   "execution_count": 7,
   "metadata": {},
   "outputs": [
    {
     "name": "stdout",
     "output_type": "stream",
     "text": [
      "\r\n",
      "1\r\n",
      "12\r\n",
      "123\r\n",
      "1234\r\n",
      "12345\r\n"
     ]
    }
   ],
   "source": [
    "for x in range(6):\n",
    "    for y in range(1,x+1):\n",
    "        print(y, end ='')\n",
    "    print(\"\\r\")"
   ]
  },
  {
   "cell_type": "code",
   "execution_count": 14,
   "metadata": {},
   "outputs": [
    {
     "name": "stdout",
     "output_type": "stream",
     "text": [
      "666666\r\n",
      "55555\r\n",
      "4444\r\n",
      "333\r\n",
      "22\r\n",
      "1\r\n",
      "\r\n"
     ]
    }
   ],
   "source": [
    "for x in reversed(range(7)):\n",
    "    for y in range(x):\n",
    "        print(x, end ='')\n",
    "    print(\"\\r\")\n",
    "    "
   ]
  },
  {
   "cell_type": "code",
   "execution_count": 22,
   "metadata": {},
   "outputs": [
    {
     "name": "stdout",
     "output_type": "stream",
     "text": [
      "111111\r\n",
      "22222\r\n",
      "3333\r\n",
      "444\r\n",
      "55\r\n",
      "6\r\n"
     ]
    }
   ],
   "source": [
    "b = 0\n",
    "for x in range(6,0,-1):\n",
    "    b+=1\n",
    "    for j in range(1, x + 1):\n",
    "        print(b, end ='')\n",
    "    print(\"\\r\")"
   ]
  },
  {
   "cell_type": "code",
   "execution_count": 26,
   "metadata": {},
   "outputs": [
    {
     "name": "stdout",
     "output_type": "stream",
     "text": [
      "55555\r\n",
      "5555\r\n",
      "555\r\n",
      "55\r\n",
      "5\r\n"
     ]
    }
   ],
   "source": [
    "rows  = 5\n",
    "num = rows\n",
    "for i in range(5, 0, -1):\n",
    "    for j in range(0,i):\n",
    "        print(rows, end ='')\n",
    "    print(\"\\r\")"
   ]
  },
  {
   "cell_type": "code",
   "execution_count": 27,
   "metadata": {},
   "outputs": [
    {
     "name": "stdout",
     "output_type": "stream",
     "text": [
      "54321"
     ]
    }
   ],
   "source": [
    "for i in range(5, 0, -1):\n",
    "    print(i, end ='')"
   ]
  },
  {
   "cell_type": "code",
   "execution_count": 45,
   "metadata": {},
   "outputs": [
    {
     "name": "stdout",
     "output_type": "stream",
     "text": [
      "0 1 2 3 4 5 \r\n",
      "0 1 2 3 4 \r\n",
      "0 1 2 3 \r\n",
      "0 1 2 \r\n",
      "0 1 \r\n"
     ]
    }
   ],
   "source": [
    "\n",
    "for x in reversed(range(1,6)):\n",
    "    for y in range(0,x+1):\n",
    "        print(y, end = ' ')\n",
    "    print(\"\\r\")"
   ]
  },
  {
   "cell_type": "code",
   "execution_count": 41,
   "metadata": {},
   "outputs": [
    {
     "name": "stdout",
     "output_type": "stream",
     "text": [
      "0 1 2 3 4 5 \r\n",
      "0 1 2 3 4 \r\n",
      "0 1 2 3 \r\n",
      "0 1 2 \r\n",
      "0 1 \r\n"
     ]
    }
   ],
   "source": [
    "rows = 5\n",
    "for i in range(rows, 0, -1):\n",
    "    for j in range(0, i + 1):\n",
    "        print(j, end=' ')\n",
    "    print(\"\\r\")"
   ]
  },
  {
   "cell_type": "code",
   "execution_count": 48,
   "metadata": {},
   "outputs": [
    {
     "name": "stdout",
     "output_type": "stream",
     "text": [
      "\r\n",
      "\r\n",
      "1 \r\n",
      "2 1 \r\n",
      "3 2 1 \r\n",
      "4 3 2 1 \r\n",
      "5 4 3 2 1 \r\n"
     ]
    }
   ],
   "source": [
    "for x in range(7):\n",
    "    for y in reversed(range(1,x)):\n",
    "        print(y, end =' ')\n",
    "    print(\"\\r\")"
   ]
  },
  {
   "cell_type": "code",
   "execution_count": null,
   "metadata": {},
   "outputs": [],
   "source": []
  }
 ],
 "metadata": {
  "kernelspec": {
   "display_name": "Python 3",
   "language": "python",
   "name": "python3"
  },
  "language_info": {
   "codemirror_mode": {
    "name": "ipython",
    "version": 3
   },
   "file_extension": ".py",
   "mimetype": "text/x-python",
   "name": "python",
   "nbconvert_exporter": "python",
   "pygments_lexer": "ipython3",
   "version": "3.6.9"
  }
 },
 "nbformat": 4,
 "nbformat_minor": 4
}
