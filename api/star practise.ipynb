{
 "cells": [
  {
   "cell_type": "code",
   "execution_count": null,
   "metadata": {},
   "outputs": [],
   "source": [
    "for x in range(6):\n",
    "    for y in range(x):\n",
    "        print(x, end ='')\n",
    "    print(\"\\r\")"
   ]
  },
  {
   "cell_type": "code",
   "execution_count": null,
   "metadata": {},
   "outputs": [],
   "source": [
    "for x in range(6):\n",
    "    for y in range(1,x+1):\n",
    "        print(y, end ='')\n",
    "    print(\"\\r\")"
   ]
  },
  {
   "cell_type": "code",
   "execution_count": null,
   "metadata": {},
   "outputs": [],
   "source": [
    "for x in reversed(range(7)):\n",
    "    for y in range(x):\n",
    "        print(x, end ='')\n",
    "    print(\"\\r\")\n",
    "    "
   ]
  },
  {
   "cell_type": "code",
   "execution_count": null,
   "metadata": {},
   "outputs": [],
   "source": [
    "b = 0\n",
    "for x in range(6,0,-1):\n",
    "    b+=1\n",
    "    for j in range(1, x + 1):\n",
    "        print(b, end ='')\n",
    "    print(\"\\r\")"
   ]
  },
  {
   "cell_type": "code",
   "execution_count": null,
   "metadata": {},
   "outputs": [],
   "source": [
    "rows  = 5\n",
    "num = rows\n",
    "for i in range(5, 0, -1):\n",
    "    for j in range(0,i):\n",
    "        print(rows, end ='')\n",
    "    print(\"\\r\")"
   ]
  },
  {
   "cell_type": "code",
   "execution_count": null,
   "metadata": {},
   "outputs": [],
   "source": [
    "for i in range(5, 0, -1):\n",
    "    print(i, end ='')"
   ]
  },
  {
   "cell_type": "code",
   "execution_count": null,
   "metadata": {},
   "outputs": [],
   "source": [
    "\n",
    "for x in reversed(range(1,6)):\n",
    "    for y in range(0,x+1):\n",
    "        print(y, end = ' ')\n",
    "    print(\"\\r\")"
   ]
  },
  {
   "cell_type": "code",
   "execution_count": null,
   "metadata": {},
   "outputs": [],
   "source": [
    "rows = 5\n",
    "for i in range(rows, 0, -1):\n",
    "    for j in range(0, i + 1):\n",
    "        print(j, end=' ')\n",
    "    print(\"\\r\")"
   ]
  },
  {
   "cell_type": "code",
   "execution_count": null,
   "metadata": {},
   "outputs": [],
   "source": [
    "for x in range(7):\n",
    "    for y in reversed(range(1,x)):\n",
    "        print(y, end =' ')\n",
    "    print(\"\\r\")"
   ]
  },
  {
   "cell_type": "code",
   "execution_count": null,
   "metadata": {},
   "outputs": [],
   "source": [
    "rows = 7\n",
    "for i in range(1, rows):\n",
    "    for j in range(0, i+1):\n",
    "        print(i * j, end='  ')\n",
    "    print(\"\\r\")"
   ]
  },
  {
   "cell_type": "code",
   "execution_count": null,
   "metadata": {},
   "outputs": [],
   "source": [
    "rows = 7\n",
    "for i in range(1, rows):\n",
    "    for j in range(0, i+1):\n",
    "        print(i * j, end='  ')\n",
    "    print(\"\\r\")"
   ]
  },
  {
   "cell_type": "code",
   "execution_count": null,
   "metadata": {},
   "outputs": [],
   "source": [
    "for x in range(9):\n",
    "    for y in reversed(range(1,x)):\n",
    "        print(y*2, end=' ')\n",
    "    print(\"\\r\")"
   ]
  },
  {
   "cell_type": "code",
   "execution_count": null,
   "metadata": {},
   "outputs": [],
   "source": [
    "for x in range(9):\n",
    "    for y in reversed(range(x)):\n",
    "        print(2**y,  end=' ')\n",
    "    print(\"\\r\")"
   ]
  },
  {
   "cell_type": "code",
   "execution_count": null,
   "metadata": {},
   "outputs": [],
   "source": [
    "for x in range(9):\n",
    "    for y in reversed(range(x)):\n",
    "        print(2**y,  end=' ')\n",
    "    print(\"\\r\")"
   ]
  },
  {
   "cell_type": "code",
   "execution_count": null,
   "metadata": {},
   "outputs": [],
   "source": [
    "for x in range(9):\n",
    "    for y in (range(x)):\n",
    "        print(2**y,  end=' ')\n",
    "    for z in reversed(range(1,x)):\n",
    "        print(z, end = ' ')\n",
    "    print(\"\\r\")"
   ]
  },
  {
   "cell_type": "code",
   "execution_count": null,
   "metadata": {},
   "outputs": [],
   "source": [
    "for x in range(9):\n",
    "    for y in (range(0,x,1)):\n",
    "        print(2**y,  end=' ')\n",
    "    for z in reversed(range(1,x)):\n",
    "        print(z, end = ' ')\n",
    "    print(\"\\r\")"
   ]
  },
  {
   "cell_type": "code",
   "execution_count": null,
   "metadata": {},
   "outputs": [],
   "source": [
    "counter = 1\n",
    "stop =2\n",
    "for x in range(5):\n",
    "    for y in range(1,stop):\n",
    "        print(counter, end =' ')\n",
    "        counter = counter+1\n",
    "    print(\"\")\n",
    "    stop = stop+2"
   ]
  },
  {
   "cell_type": "code",
   "execution_count": null,
   "metadata": {},
   "outputs": [],
   "source": [
    "\n",
    "stop =2\n",
    "start = 1\n",
    "counter = stop\n",
    "for x in range(2,6):\n",
    "    for y in (range(start,stop)):\n",
    "        counter = counter-1\n",
    "        print(counter, end =' ')\n",
    "        \n",
    "    print(\"\")\n",
    "    \n",
    "    start = stop\n",
    "    \n",
    "    stop = start+x\n",
    "    counter =stop"
   ]
  },
  {
   "cell_type": "code",
   "execution_count": null,
   "metadata": {},
   "outputs": [],
   "source": [
    "start = 1\n",
    "stop = 2\n",
    "currentNumber = stop\n",
    "for row in range(2, 6):\n",
    "    for col in range(start, stop):\n",
    "        currentNumber -= 1\n",
    "        print(currentNumber, end=' ')\n",
    "    print(\"\")\n",
    "    start = stop\n",
    "    stop += row\n",
    "    currentNumber = stop"
   ]
  },
  {
   "cell_type": "code",
   "execution_count": null,
   "metadata": {},
   "outputs": [],
   "source": [
    "num = 7\n",
    "LastEvenNumber = 2 * num\n",
    "evenNumber = LastEvenNumber\n",
    "for x in range(1,num):\n",
    "    evenNumber = LastEvenNumber\n",
    "    for y in range(x):\n",
    "        print(evenNumber, end = ' ')\n",
    "        evenNumber-=2\n",
    "        \n",
    "    print(\"\\r\")"
   ]
  },
  {
   "cell_type": "code",
   "execution_count": null,
   "metadata": {},
   "outputs": [],
   "source": [
    "for x in range(1,10):\n",
    "    for y in range(1,x-1):\n",
    "        print(y, end =' ')\n",
    "    for y in reversed(range(1,x)):\n",
    "#     for y in (range(x-1,0,-1)):\n",
    "        print(y, end = \" \")\n",
    "    print(\"\\r\")"
   ]
  },
  {
   "cell_type": "code",
   "execution_count": null,
   "metadata": {},
   "outputs": [],
   "source": [
    "for x in reversed(range(1,7)):\n",
    "    for y in reversed(range(1,x)):\n",
    "        print(y, end = \" \")\n",
    "    print(\"\\r\")"
   ]
  },
  {
   "cell_type": "code",
   "execution_count": null,
   "metadata": {},
   "outputs": [],
   "source": [
    "for x in range(8):\n",
    "    for y in range(x+1):\n",
    "        print(y*x, end = \" \")\n",
    "    print(\"\\r\")"
   ]
  },
  {
   "cell_type": "code",
   "execution_count": null,
   "metadata": {},
   "outputs": [],
   "source": [
    "for x in (range(7)):\n",
    "    for y in (range(x+1,7,1)):\n",
    "        print(y, end =\" \")\n",
    "    print(\"\\r\")"
   ]
  },
  {
   "cell_type": "code",
   "execution_count": null,
   "metadata": {},
   "outputs": [],
   "source": [
    "num = 6\n",
    "rows = 6\n",
    "for i in range(1, rows):\n",
    "        for j in reversed(range(i,rows)):\n",
    "        #for j in range(rows - 1, i, -1):\n",
    "            print(j, end = \" \")\n",
    "        for k in range(i):\n",
    "            print(\"   \", end = \" \")\n",
    "            \n",
    "        for m in range(i,rows):\n",
    "            print(m, end = \" \")\n",
    "        print(\"\\n\")\n",
    "    "
   ]
  },
  {
   "cell_type": "code",
   "execution_count": null,
   "metadata": {},
   "outputs": [],
   "source": [
    "rows = 6\n",
    "for i in range(0, rows):\n",
    "    for j in reversed(range(i+1,rows)):\n",
    "        print(j, '', end='')\n",
    "    for l in range(i):\n",
    "        print('    ', end='')\n",
    "    for k in range(i + 1, rows):\n",
    "        print(k, '', end='')\n",
    "    print('\\n')\n"
   ]
  },
  {
   "cell_type": "code",
   "execution_count": null,
   "metadata": {},
   "outputs": [],
   "source": [
    "num =6\n",
    "for x in range(1,num):\n",
    "    for j in range(1,num):\n",
    "        if (j <= x):\n",
    "            print(x, end = ' ')\n",
    "        else:\n",
    "            print(j, end= ' ')\n",
    "    print(\" \")"
   ]
  },
  {
   "cell_type": "code",
   "execution_count": null,
   "metadata": {},
   "outputs": [],
   "source": [
    "for x in range(1,6):\n",
    "    num = 1\n",
    "    for y in range(6,0,-1):\n",
    "        if (y > x):\n",
    "            print(\" \", end = ' ')\n",
    "        else:\n",
    "            print(num, end = ' ')\n",
    "            num  = num + 1\n",
    "    print(\"\")"
   ]
  },
  {
   "cell_type": "code",
   "execution_count": null,
   "metadata": {},
   "outputs": [],
   "source": [
    "rows = 6\n",
    "for row in range(1, rows):\n",
    "    num = 1\n",
    "    for j in range(rows, 0, -1):\n",
    "        if j > row:\n",
    "            print(\" \", end=' ')\n",
    "        else:\n",
    "            print(num, end=' ')\n",
    "            num += 1\n",
    "    print(\"\")"
   ]
  },
  {
   "cell_type": "code",
   "execution_count": null,
   "metadata": {},
   "outputs": [],
   "source": [
    "size = 9\n",
    "m = (2 * size) - 2\n",
    "for i in range(0, size):\n",
    "    for j in range(0, m):\n",
    "        print(end=\" \")\n",
    "    m = m - 1  # decrementing m after each loop\n",
    "    \n",
    "    for j in range(0, i + 1):\n",
    "        print(\"* \", end=' ')\n",
    "    print(\" \")"
   ]
  },
  {
   "cell_type": "code",
   "execution_count": null,
   "metadata": {},
   "outputs": [],
   "source": [
    "def print_pascal_triangle(size):\n",
    "    for i in range(0, size):\n",
    "        for j in range(0, i + 1):\n",
    "            print(decide_number(i, j), end=\" \")\n",
    "        print()\n",
    "\n",
    "def decide_number(n, k):\n",
    "    num = 1\n",
    "    if k > n - k:\n",
    "        k = n - k\n",
    "    for i in range(0, k):\n",
    "        num = num * (n - i)\n",
    "        num = num // (i + 1)\n",
    "    return num\n",
    "\n",
    "rows = 7\n",
    "print_pascal_triangle(rows)\n"
   ]
  },
  {
   "cell_type": "code",
   "execution_count": null,
   "metadata": {},
   "outputs": [],
   "source": []
  },
  {
   "cell_type": "code",
   "execution_count": null,
   "metadata": {},
   "outputs": [],
   "source": []
  }
 ],
 "metadata": {
  "kernelspec": {
   "display_name": "Python 3",
   "language": "python",
   "name": "python3"
  },
  "language_info": {
   "codemirror_mode": {
    "name": "ipython",
    "version": 3
   },
   "file_extension": ".py",
   "mimetype": "text/x-python",
   "name": "python",
   "nbconvert_exporter": "python",
   "pygments_lexer": "ipython3",
   "version": "3.6.9"
  }
 },
 "nbformat": 4,
 "nbformat_minor": 4
}
