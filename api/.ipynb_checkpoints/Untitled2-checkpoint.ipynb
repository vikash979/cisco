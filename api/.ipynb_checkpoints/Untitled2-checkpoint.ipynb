{
 "cells": [
  {
   "cell_type": "code",
   "execution_count": 5,
   "metadata": {},
   "outputs": [
    {
     "name": "stdout",
     "output_type": "stream",
     "text": [
      "[1, 3, 5, 7, 9]\n"
     ]
    }
   ],
   "source": [
    "array_nums = [1, 2, 3, 5, 7, 8, 9, 10]\n",
    "odd_ctr = (list(filter(lambda x: (x%2 != 0) , array_nums)))\n",
    "print(odd_ctr)"
   ]
  },
  {
   "cell_type": "code",
   "execution_count": 7,
   "metadata": {},
   "outputs": [
    {
     "name": "stdout",
     "output_type": "stream",
     "text": [
      "malayalam\n",
      "Yes\n"
     ]
    }
   ],
   "source": [
    "def isPalindrome(s):\n",
    "    print(s[::-1])\n",
    "    return s == s[::-1]\n",
    "\n",
    "s = \"malayalam\"\n",
    "ans = isPalindrome(s)\n",
    " \n",
    "if ans:\n",
    "    print(\"Yes\")\n",
    "else:\n",
    "    print(\"No\")"
   ]
  },
  {
   "cell_type": "code",
   "execution_count": 15,
   "metadata": {},
   "outputs": [
    {
     "name": "stdout",
     "output_type": "stream",
     "text": [
      "[10, 9, 8, 7, 5, 3, 2, 1]\n"
     ]
    }
   ],
   "source": [
    "array_nums = [1, 2, 3, 5, 7, 8, 9, 10]\n",
    "tt = array_nums[::-1]\n",
    "print(tt)"
   ]
  },
  {
   "cell_type": "code",
   "execution_count": 2,
   "metadata": {},
   "outputs": [
    {
     "name": "stdout",
     "output_type": "stream",
     "text": [
      "4\n",
      "m ----------- m ---palindrone\n",
      "a ----------- a ---palindrone\n",
      "l ----------- l ---palindrone\n",
      "a ----------- a ---palindrone\n",
      "None\n"
     ]
    }
   ],
   "source": [
    "def palindrome(a):\n",
    "    midpart = len(a)//2\n",
    "    print(midpart)\n",
    "    lastpart = len(a)-1\n",
    "    \n",
    "   \n",
    "    for i in range(midpart):\n",
    "        if(a[i] == a[len(a)-i-1]):\n",
    "            print(a[i] ,\"-----------\", a[len(a)-i-1],\"---palindrone\")\n",
    "        else:\n",
    "            print(\"no\")\n",
    "\n",
    "        \n",
    "        \n",
    "\n",
    "#         if a[i]\n",
    "    \n",
    "strin =\"malayalam\"\n",
    "si = palindrome(strin)\n",
    "print(si)"
   ]
  },
  {
   "cell_type": "code",
   "execution_count": 10,
   "metadata": {},
   "outputs": [
    {
     "name": "stdout",
     "output_type": "stream",
     "text": [
      "m ============== a\n",
      "The entered string is not symmetrical\n"
     ]
    }
   ],
   "source": [
    "def symmetry(a): \n",
    "      \n",
    "    n = len(a) \n",
    "    flag = 0\n",
    "      \n",
    "    # Check if the string's length \n",
    "    # is odd or even \n",
    "    if n%2: \n",
    "        mid = n//2 +1\n",
    "    else: \n",
    "        mid = n//2\n",
    "          \n",
    "    start1 = 0\n",
    "    start2 = mid \n",
    "      \n",
    "    while(start1 < mid and start2 < n): \n",
    "        print(a[start1],\"==============\", a[start2])\n",
    "          \n",
    "        if (a[start1]== a[start2]): \n",
    "            start1 = start1 + 1\n",
    "            start2 = start2 + 1\n",
    "        else: \n",
    "            flag = 1\n",
    "            break\n",
    "       \n",
    "    # Checking the flag variable to  \n",
    "    # check if the string is symmetrical \n",
    "    # or not \n",
    "    if flag == 0: \n",
    "        print(\"The entered string is symmetrical\") \n",
    "    else: \n",
    "        print(\"The entered string is not symmetrical\") \n",
    "    \n",
    "\n",
    "strin =\"malamalam\"\n",
    "ee = symmetry(strin)\n"
   ]
  },
  {
   "cell_type": "code",
   "execution_count": 11,
   "metadata": {},
   "outputs": [
    {
     "name": "stdout",
     "output_type": "stream",
     "text": [
      "Yes\n"
     ]
    }
   ],
   "source": [
    "def isPalindrome(str):\n",
    " \n",
    "    # Run loop from 0 to len/2 \n",
    "    for i in range(0, int(len(str)/2)): \n",
    "        if str[i] != str[len(str)-i-1]:\n",
    "            return False\n",
    "    return True\n",
    " \n",
    "# main function\n",
    "s = \"malayalam\"\n",
    "ans = isPalindrome(s)\n",
    " \n",
    "if (ans):\n",
    "    print(\"Yes\")\n",
    "else:\n",
    "    print(\"No\")"
   ]
  },
  {
   "cell_type": "code",
   "execution_count": 28,
   "metadata": {},
   "outputs": [
    {
     "name": "stdout",
     "output_type": "stream",
     "text": [
      "{'a': 0, 'e': 0, 'i': 0, 'o': 0, 'u': 0, 'A': 0, 'E': 0, 'I': 0, 'O': 0, 'U': 0}\n",
      "{'a': 2, 'e': 4, 'i': 3, 'o': 5, 'u': 3, 'A': 1, 'E': 0, 'I': 0, 'O': 0, 'U': 0}\n"
     ]
    }
   ],
   "source": [
    "ip_str = 'Hello,Have you tried our tutorial section yat?'\n",
    "\n",
    "# make it suitable for caseless comparisions\n",
    "ip_str = ip_str.casefold()\n",
    "vowels = 'aeiou'\n",
    "count = 0\n",
    "counts = {}.fromkeys(vowels, 0)\n",
    "print(counts)\n",
    "ff =[]\n",
    "for x in ip_str:\n",
    "    if x in vowels:\n",
    "        if x in counts:\n",
    "            counts[x]+=1\n",
    "print(counts)\n",
    "\n",
    "#         print(\",\".join(x))"
   ]
  },
  {
   "cell_type": "code",
   "execution_count": 31,
   "metadata": {},
   "outputs": [
    {
     "name": "stdout",
     "output_type": "stream",
     "text": [
      "[100, 400, 550]\n"
     ]
    }
   ],
   "source": [
    "list = [100, 300, 400,550]\n",
    "list.pop(1)\n",
    "print(list)"
   ]
  },
  {
   "cell_type": "code",
   "execution_count": 30,
   "metadata": {},
   "outputs": [],
   "source": [
    "list = [10,20,30,40,55]\n",
    "del list[1]"
   ]
  },
  {
   "cell_type": "markdown",
   "metadata": {},
   "source": [
    "# height of pole = 12 #jump = 3 #sleep = 1"
   ]
  },
  {
   "cell_type": "code",
   "execution_count": 44,
   "metadata": {},
   "outputs": [
    {
     "data": {
      "text/plain": [
       "5"
      ]
     },
     "execution_count": 44,
     "metadata": {},
     "output_type": "execute_result"
    }
   ],
   "source": [
    "#output = 6\n",
    "\n",
    "def monkeyjump(height,jump,sleep):\n",
    "    count = 0\n",
    "    if height ==1:\n",
    "        return 1\n",
    "    else:\n",
    "        while(jump< height):\n",
    "            count+=1\n",
    "            \n",
    "            height = height-(jump-sleep)\n",
    "        count+=1\n",
    "\n",
    "    return (count)\n",
    "    \n",
    "poleheight = 14\n",
    "jump = 4\n",
    "sleep = 1\n",
    "monkeyjump(poleheight, jump,sleep)"
   ]
  },
  {
   "cell_type": "markdown",
   "metadata": {},
   "source": [
    "# minimum approach "
   ]
  },
  {
   "cell_type": "code",
   "execution_count": 88,
   "metadata": {},
   "outputs": [
    {
     "name": "stdout",
     "output_type": "stream",
     "text": [
      ";;;;;;;;;; 4\n",
      "180 ::::::::::: 190\n",
      "40 ?????????????? 180\n",
      ";;;;;;;;;; 2\n",
      "50 <>>>>>>>>>>>> 30\n",
      "300\n"
     ]
    }
   ],
   "source": [
    "# Python3 implementation of the approach \n",
    "  \n",
    "# Function to return the minimum cost \n",
    "def minimumCost(price, n): \n",
    "  \n",
    "    # Sort the price array \n",
    "    price = sorted(price) \n",
    "    totalCost = 0\n",
    "  \n",
    "    # Calcualte minimum price \n",
    "    # of n-2 most costly person \n",
    "    for i in range(n - 1, 1, -2):\n",
    "        print(\";;;;;;;;;;\",i)\n",
    "        if (i == 2): \n",
    "            totalCost += price[2] + price[0] \n",
    "            print(price[2],\"<>>>>>>>>>>>>\",price[0])\n",
    "            \n",
    "  \n",
    "        else: \n",
    "  \n",
    "            # Both the ways as discussed above \n",
    "            price_first = price[i] + price[0] + 2 * price[1] \n",
    "            price_second = price[i] + price[i - 1] + 2 * price[0]\n",
    "            print(price_first,\":::::::::::\",price_second)\n",
    "            totalCost += min(price_first, price_second) \n",
    "            print(price[1] ,\"??????????????\",totalCost)\n",
    "  \n",
    "    # Calculate the minimum price \n",
    "    # of the two cheapest person \n",
    "    if (n == 1): \n",
    "        totalCost += price[0]\n",
    "    else: \n",
    "        totalCost += price[1] \n",
    "  \n",
    "    return totalCost \n",
    "  \n",
    "# Driver code \n",
    "  \n",
    "price = [30, 40,60,70,50] \n",
    "n = len(price) \n",
    "  \n",
    "print(minimumCost(price, n)) \n",
    "  "
   ]
  },
  {
   "cell_type": "code",
   "execution_count": 85,
   "metadata": {},
   "outputs": [
    {
     "name": "stdout",
     "output_type": "stream",
     "text": [
      "3\n"
     ]
    }
   ],
   "source": [
    "price = [30, 40,60,70] \n",
    "n = len(price)\n",
    "for i in range(n-1,1,-2):\n",
    "    print(i)"
   ]
  },
  {
   "cell_type": "code",
   "execution_count": null,
   "metadata": {},
   "outputs": [],
   "source": []
  }
 ],
 "metadata": {
  "kernelspec": {
   "display_name": "Python 3",
   "language": "python",
   "name": "python3"
  },
  "language_info": {
   "codemirror_mode": {
    "name": "ipython",
    "version": 3
   },
   "file_extension": ".py",
   "mimetype": "text/x-python",
   "name": "python",
   "nbconvert_exporter": "python",
   "pygments_lexer": "ipython3",
   "version": "3.6.9"
  }
 },
 "nbformat": 4,
 "nbformat_minor": 4
}
