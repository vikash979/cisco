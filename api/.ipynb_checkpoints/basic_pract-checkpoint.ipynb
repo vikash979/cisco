{
 "cells": [
  {
   "cell_type": "code",
   "execution_count": 16,
   "metadata": {},
   "outputs": [
    {
     "name": "stdout",
     "output_type": "stream",
     "text": [
      "HELLOwORLDvIKAsH\n"
     ]
    }
   ],
   "source": [
    "a=\"helloWorldVikaSh\"\n",
    "stri = ''\n",
    "for x in a:\n",
    "    if x.islower():\n",
    "        stri+=x.upper()\n",
    "    else:\n",
    "        stri+=x.lower()\n",
    "        \n",
    "print(stri)"
   ]
  },
  {
   "cell_type": "markdown",
   "metadata": {},
   "source": [
    "# Copy And Shallow Copy"
   ]
  },
  {
   "cell_type": "code",
   "execution_count": 1,
   "metadata": {},
   "outputs": [
    {
     "name": "stdout",
     "output_type": "stream",
     "text": [
      "before append [1, 2, 3, 4, 6]\n",
      "[1, 2, 3, 4, 6, 9]\n",
      "[1, 2, 3, 4, 6]\n",
      "[1, 2, 3, 4, 6]\n"
     ]
    }
   ],
   "source": [
    "import copy\n",
    "a = [1,2,3,4,5]\n",
    "b = a\n",
    "# b.append(7)\n",
    "b[4] = 6\n",
    "c = copy.deepcopy(b)\n",
    "print(\"before append\",c)\n",
    "c.append(9)\n",
    "print(c)\n",
    "print(a)\n",
    "print(b)"
   ]
  },
  {
   "cell_type": "code",
   "execution_count": 4,
   "metadata": {},
   "outputs": [
    {
     "name": "stdout",
     "output_type": "stream",
     "text": [
      "[1, 2, 3, 4, 5]\n",
      "[1, 2, 3, 4, 5]\n"
     ]
    }
   ],
   "source": [
    "import copy\n",
    "a = [1,2,3,4,5]\n",
    "b =a\n",
    "c = copy.copy(b)\n",
    "print(c)\n",
    "c[0] = 66\n",
    "\n",
    "\n",
    "print(b)"
   ]
  },
  {
   "cell_type": "code",
   "execution_count": 34,
   "metadata": {},
   "outputs": [
    {
     "name": "stdout",
     "output_type": "stream",
     "text": [
      "before append [1, 2, 3, 4, 5]\n",
      "[55, 2, 3, 4, 5]\n",
      "[1, 2, 3, 4, 5]\n"
     ]
    }
   ],
   "source": [
    "import copy\n",
    "a = [1,2,3,4,5]\n",
    "\n",
    "c = copy.deepcopy(a)\n",
    "\n",
    "print(\"before append\",c)\n",
    "c[0]=55\n",
    "print(c)\n",
    "print(a)\n"
   ]
  },
  {
   "cell_type": "code",
   "execution_count": 4,
   "metadata": {},
   "outputs": [
    {
     "name": "stdout",
     "output_type": "stream",
     "text": [
      "[1, 2, [3, 5], 4]\n"
     ]
    }
   ],
   "source": [
    "import copy \n",
    "  \n",
    "# initializing list 1 \n",
    "li1 = [1, 2, [3,5], 4] \n",
    "  \n",
    "# using deepcopy to deep copy  \n",
    "li2 = copy.copy(li1) \n",
    "li2.append(9)\n",
    "print(li1)"
   ]
  },
  {
   "cell_type": "code",
   "execution_count": 5,
   "metadata": {},
   "outputs": [
    {
     "name": "stdout",
     "output_type": "stream",
     "text": [
      "abcabc\n"
     ]
    }
   ],
   "source": [
    "a= (1,2,[3,4])\n",
    "str1 =\"abc\"\n",
    "str2 =str1\n",
    "print(str2+str1)"
   ]
  },
  {
   "cell_type": "code",
   "execution_count": 8,
   "metadata": {},
   "outputs": [
    {
     "name": "stdout",
     "output_type": "stream",
     "text": [
      "('a', 'b', [4, 8])\n"
     ]
    }
   ],
   "source": [
    "a = ('a','b',[4,5])\n",
    "a[2][1] =8\n",
    "print(a)"
   ]
  },
  {
   "cell_type": "code",
   "execution_count": null,
   "metadata": {},
   "outputs": [],
   "source": []
  }
 ],
 "metadata": {
  "kernelspec": {
   "display_name": "Python 3",
   "language": "python",
   "name": "python3"
  },
  "language_info": {
   "codemirror_mode": {
    "name": "ipython",
    "version": 3
   },
   "file_extension": ".py",
   "mimetype": "text/x-python",
   "name": "python",
   "nbconvert_exporter": "python",
   "pygments_lexer": "ipython3",
   "version": "3.6.9"
  }
 },
 "nbformat": 4,
 "nbformat_minor": 4
}
