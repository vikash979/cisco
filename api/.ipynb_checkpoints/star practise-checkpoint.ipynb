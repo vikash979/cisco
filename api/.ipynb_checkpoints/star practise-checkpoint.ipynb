{
 "cells": [
  {
   "cell_type": "code",
   "execution_count": 4,
   "metadata": {},
   "outputs": [
    {
     "name": "stdout",
     "output_type": "stream",
     "text": [
      "\r\n",
      "1\r\n",
      "22\r\n",
      "333\r\n",
      "4444\r\n",
      "55555\r\n"
     ]
    }
   ],
   "source": [
    "for x in range(6):\n",
    "    for y in range(x):\n",
    "        print(x, end ='')\n",
    "    print(\"\\r\")"
   ]
  },
  {
   "cell_type": "code",
   "execution_count": 7,
   "metadata": {},
   "outputs": [
    {
     "name": "stdout",
     "output_type": "stream",
     "text": [
      "\r\n",
      "1\r\n",
      "12\r\n",
      "123\r\n",
      "1234\r\n",
      "12345\r\n"
     ]
    }
   ],
   "source": [
    "for x in range(6):\n",
    "    for y in range(1,x+1):\n",
    "        print(y, end ='')\n",
    "    print(\"\\r\")"
   ]
  },
  {
   "cell_type": "code",
   "execution_count": 14,
   "metadata": {},
   "outputs": [
    {
     "name": "stdout",
     "output_type": "stream",
     "text": [
      "666666\r\n",
      "55555\r\n",
      "4444\r\n",
      "333\r\n",
      "22\r\n",
      "1\r\n",
      "\r\n"
     ]
    }
   ],
   "source": [
    "for x in reversed(range(7)):\n",
    "    for y in range(x):\n",
    "        print(x, end ='')\n",
    "    print(\"\\r\")\n",
    "    "
   ]
  },
  {
   "cell_type": "code",
   "execution_count": 22,
   "metadata": {},
   "outputs": [
    {
     "name": "stdout",
     "output_type": "stream",
     "text": [
      "111111\r\n",
      "22222\r\n",
      "3333\r\n",
      "444\r\n",
      "55\r\n",
      "6\r\n"
     ]
    }
   ],
   "source": [
    "b = 0\n",
    "for x in range(6,0,-1):\n",
    "    b+=1\n",
    "    for j in range(1, x + 1):\n",
    "        print(b, end ='')\n",
    "    print(\"\\r\")"
   ]
  },
  {
   "cell_type": "code",
   "execution_count": 26,
   "metadata": {},
   "outputs": [
    {
     "name": "stdout",
     "output_type": "stream",
     "text": [
      "55555\r\n",
      "5555\r\n",
      "555\r\n",
      "55\r\n",
      "5\r\n"
     ]
    }
   ],
   "source": [
    "rows  = 5\n",
    "num = rows\n",
    "for i in range(5, 0, -1):\n",
    "    for j in range(0,i):\n",
    "        print(rows, end ='')\n",
    "    print(\"\\r\")"
   ]
  },
  {
   "cell_type": "code",
   "execution_count": 27,
   "metadata": {},
   "outputs": [
    {
     "name": "stdout",
     "output_type": "stream",
     "text": [
      "54321"
     ]
    }
   ],
   "source": [
    "for i in range(5, 0, -1):\n",
    "    print(i, end ='')"
   ]
  },
  {
   "cell_type": "code",
   "execution_count": 45,
   "metadata": {},
   "outputs": [
    {
     "name": "stdout",
     "output_type": "stream",
     "text": [
      "0 1 2 3 4 5 \r\n",
      "0 1 2 3 4 \r\n",
      "0 1 2 3 \r\n",
      "0 1 2 \r\n",
      "0 1 \r\n"
     ]
    }
   ],
   "source": [
    "\n",
    "for x in reversed(range(1,6)):\n",
    "    for y in range(0,x+1):\n",
    "        print(y, end = ' ')\n",
    "    print(\"\\r\")"
   ]
  },
  {
   "cell_type": "code",
   "execution_count": 41,
   "metadata": {},
   "outputs": [
    {
     "name": "stdout",
     "output_type": "stream",
     "text": [
      "0 1 2 3 4 5 \r\n",
      "0 1 2 3 4 \r\n",
      "0 1 2 3 \r\n",
      "0 1 2 \r\n",
      "0 1 \r\n"
     ]
    }
   ],
   "source": [
    "rows = 5\n",
    "for i in range(rows, 0, -1):\n",
    "    for j in range(0, i + 1):\n",
    "        print(j, end=' ')\n",
    "    print(\"\\r\")"
   ]
  },
  {
   "cell_type": "code",
   "execution_count": 48,
   "metadata": {},
   "outputs": [
    {
     "name": "stdout",
     "output_type": "stream",
     "text": [
      "\r\n",
      "\r\n",
      "1 \r\n",
      "2 1 \r\n",
      "3 2 1 \r\n",
      "4 3 2 1 \r\n",
      "5 4 3 2 1 \r\n"
     ]
    }
   ],
   "source": [
    "for x in range(7):\n",
    "    for y in reversed(range(1,x)):\n",
    "        print(y, end =' ')\n",
    "    print(\"\\r\")"
   ]
  },
  {
   "cell_type": "code",
   "execution_count": 55,
   "metadata": {},
   "outputs": [
    {
     "name": "stdout",
     "output_type": "stream",
     "text": [
      "0  \r\n",
      "0  2  \r\n",
      "0  3  6  \r\n",
      "0  4  8  12  \r\n",
      "0  5  10  15  20  \r\n",
      "0  6  12  18  24  30  \r\n"
     ]
    }
   ],
   "source": [
    "rows = 7\n",
    "for i in range(1, rows):\n",
    "    for j in range(0, i+1):\n",
    "        print(i * j, end='  ')\n",
    "    print(\"\\r\")"
   ]
  },
  {
   "cell_type": "code",
   "execution_count": 2,
   "metadata": {},
   "outputs": [
    {
     "name": "stdout",
     "output_type": "stream",
     "text": [
      "0  1  \r\n",
      "0  2  4  \r\n",
      "0  3  6  9  \r\n",
      "0  4  8  12  16  \r\n",
      "0  5  10  15  20  25  \r\n",
      "0  6  12  18  24  30  36  \r\n"
     ]
    }
   ],
   "source": [
    "rows = 7\n",
    "for i in range(1, rows):\n",
    "    for j in range(0, i+1):\n",
    "        print(i * j, end='  ')\n",
    "    print(\"\\r\")"
   ]
  },
  {
   "cell_type": "code",
   "execution_count": 69,
   "metadata": {},
   "outputs": [
    {
     "name": "stdout",
     "output_type": "stream",
     "text": [
      "\r\n",
      "\r\n",
      "2 \r\n",
      "4 2 \r\n",
      "6 4 2 \r\n",
      "8 6 4 2 \r\n",
      "10 8 6 4 2 \r\n",
      "12 10 8 6 4 2 \r\n",
      "14 12 10 8 6 4 2 \r\n"
     ]
    }
   ],
   "source": [
    "for x in range(9):\n",
    "    for y in reversed(range(1,x)):\n",
    "        print(y*2, end=' ')\n",
    "    print(\"\\r\")"
   ]
  },
  {
   "cell_type": "code",
   "execution_count": 7,
   "metadata": {},
   "outputs": [
    {
     "name": "stdout",
     "output_type": "stream",
     "text": [
      "\r\n",
      "1 \r\n",
      "2 1 \r\n",
      "4 2 1 \r\n",
      "8 4 2 1 \r\n",
      "16 8 4 2 1 \r\n",
      "32 16 8 4 2 1 \r\n",
      "64 32 16 8 4 2 1 \r\n",
      "128 64 32 16 8 4 2 1 \r\n"
     ]
    }
   ],
   "source": [
    "for x in range(9):\n",
    "    for y in reversed(range(x)):\n",
    "        print(2**y,  end=' ')\n",
    "    print(\"\\r\")"
   ]
  },
  {
   "cell_type": "code",
   "execution_count": 33,
   "metadata": {},
   "outputs": [
    {
     "name": "stdout",
     "output_type": "stream",
     "text": [
      "\r\n",
      "1 \r\n",
      "2 1 \r\n",
      "4 2 1 \r\n",
      "8 4 2 1 \r\n",
      "16 8 4 2 1 \r\n",
      "32 16 8 4 2 1 \r\n",
      "64 32 16 8 4 2 1 \r\n",
      "128 64 32 16 8 4 2 1 \r\n"
     ]
    }
   ],
   "source": [
    "for x in range(9):\n",
    "    for y in reversed(range(x)):\n",
    "        print(2**y,  end=' ')\n",
    "    print(\"\\r\")"
   ]
  },
  {
   "cell_type": "code",
   "execution_count": 51,
   "metadata": {},
   "outputs": [
    {
     "name": "stdout",
     "output_type": "stream",
     "text": [
      "\r\n",
      "1 \r\n",
      "1 2 1 \r\n",
      "1 2 4 2 1 \r\n",
      "1 2 4 8 3 2 1 \r\n",
      "1 2 4 8 16 4 3 2 1 \r\n",
      "1 2 4 8 16 32 5 4 3 2 1 \r\n",
      "1 2 4 8 16 32 64 6 5 4 3 2 1 \r\n",
      "1 2 4 8 16 32 64 128 7 6 5 4 3 2 1 \r\n"
     ]
    }
   ],
   "source": [
    "for x in range(9):\n",
    "    for y in (range(x)):\n",
    "        print(2**y,  end=' ')\n",
    "    for z in reversed(range(1,x)):\n",
    "        print(z, end = ' ')\n",
    "    print(\"\\r\")"
   ]
  },
  {
   "cell_type": "code",
   "execution_count": 52,
   "metadata": {},
   "outputs": [
    {
     "name": "stdout",
     "output_type": "stream",
     "text": [
      "\r\n",
      "1 \r\n",
      "1 2 1 \r\n",
      "1 2 4 2 1 \r\n",
      "1 2 4 8 3 2 1 \r\n",
      "1 2 4 8 16 4 3 2 1 \r\n",
      "1 2 4 8 16 32 5 4 3 2 1 \r\n",
      "1 2 4 8 16 32 64 6 5 4 3 2 1 \r\n",
      "1 2 4 8 16 32 64 128 7 6 5 4 3 2 1 \r\n"
     ]
    }
   ],
   "source": [
    "for x in range(9):\n",
    "    for y in (range(0,x,1)):\n",
    "        print(2**y,  end=' ')\n",
    "    for z in reversed(range(1,x)):\n",
    "        print(z, end = ' ')\n",
    "    print(\"\\r\")"
   ]
  },
  {
   "cell_type": "code",
   "execution_count": 64,
   "metadata": {},
   "outputs": [
    {
     "name": "stdout",
     "output_type": "stream",
     "text": [
      "1 \n",
      "2 3 4 \n",
      "5 6 7 8 9 \n",
      "10 11 12 13 14 15 16 \n",
      "17 18 19 20 21 22 23 24 25 \n"
     ]
    }
   ],
   "source": [
    "counter = 1\n",
    "stop =2\n",
    "for x in range(5):\n",
    "    for y in range(1,stop):\n",
    "        print(counter, end =' ')\n",
    "        counter = counter+1\n",
    "    print(\"\")\n",
    "    stop = stop+2"
   ]
  },
  {
   "cell_type": "code",
   "execution_count": 102,
   "metadata": {},
   "outputs": [
    {
     "name": "stdout",
     "output_type": "stream",
     "text": [
      "1 \n",
      "3 2 \n",
      "6 5 4 \n",
      "10 9 8 7 \n"
     ]
    }
   ],
   "source": [
    "\n",
    "stop =2\n",
    "start = 1\n",
    "counter = stop\n",
    "for x in range(2,6):\n",
    "    for y in (range(start,stop)):\n",
    "        counter = counter-1\n",
    "        print(counter, end =' ')\n",
    "        \n",
    "    print(\"\")\n",
    "    \n",
    "    start = stop\n",
    "    \n",
    "    stop = start+x\n",
    "    counter =stop"
   ]
  },
  {
   "cell_type": "code",
   "execution_count": 77,
   "metadata": {},
   "outputs": [
    {
     "name": "stdout",
     "output_type": "stream",
     "text": [
      "1 \n",
      "3 2 \n",
      "6 5 4 \n",
      "10 9 8 7 \n"
     ]
    }
   ],
   "source": [
    "start = 1\n",
    "stop = 2\n",
    "currentNumber = stop\n",
    "for row in range(2, 6):\n",
    "    for col in range(start, stop):\n",
    "        currentNumber -= 1\n",
    "        print(currentNumber, end=' ')\n",
    "    print(\"\")\n",
    "    start = stop\n",
    "    stop += row\n",
    "    currentNumber = stop"
   ]
  },
  {
   "cell_type": "code",
   "execution_count": 127,
   "metadata": {},
   "outputs": [
    {
     "name": "stdout",
     "output_type": "stream",
     "text": [
      "14 \r\n",
      "14 12 \r\n",
      "14 12 10 \r\n",
      "14 12 10 8 \r\n",
      "14 12 10 8 6 \r\n",
      "14 12 10 8 6 4 \r\n"
     ]
    }
   ],
   "source": [
    "num = 7\n",
    "LastEvenNumber = 2 * num\n",
    "evenNumber = LastEvenNumber\n",
    "for x in range(1,num):\n",
    "    evenNumber = LastEvenNumber\n",
    "    for y in range(x):\n",
    "        print(evenNumber, end = ' ')\n",
    "        evenNumber-=2\n",
    "        \n",
    "    print(\"\\r\")"
   ]
  },
  {
   "cell_type": "code",
   "execution_count": 157,
   "metadata": {},
   "outputs": [
    {
     "name": "stdout",
     "output_type": "stream",
     "text": [
      "\r\n",
      "1 \r\n",
      "1 2 1 \r\n",
      "1 2 3 2 1 \r\n",
      "1 2 3 4 3 2 1 \r\n",
      "1 2 3 4 5 4 3 2 1 \r\n",
      "1 2 3 4 5 6 5 4 3 2 1 \r\n",
      "1 2 3 4 5 6 7 6 5 4 3 2 1 \r\n",
      "1 2 3 4 5 6 7 8 7 6 5 4 3 2 1 \r\n"
     ]
    }
   ],
   "source": [
    "for x in range(1,10):\n",
    "    for y in range(1,x-1):\n",
    "        print(y, end =' ')\n",
    "    for y in reversed(range(1,x)):\n",
    "#     for y in (range(x-1,0,-1)):\n",
    "        print(y, end = \" \")\n",
    "    print(\"\\r\")"
   ]
  },
  {
   "cell_type": "code",
   "execution_count": 162,
   "metadata": {},
   "outputs": [
    {
     "name": "stdout",
     "output_type": "stream",
     "text": [
      "5 4 3 2 1 \r\n",
      "4 3 2 1 \r\n",
      "3 2 1 \r\n",
      "2 1 \r\n",
      "1 \r\n",
      "\r\n"
     ]
    }
   ],
   "source": [
    "for x in reversed(range(1,7)):\n",
    "    for y in reversed(range(1,x)):\n",
    "        print(y, end = \" \")\n",
    "    print(\"\\r\")"
   ]
  },
  {
   "cell_type": "code",
   "execution_count": 172,
   "metadata": {},
   "outputs": [
    {
     "name": "stdout",
     "output_type": "stream",
     "text": [
      "0 \r\n",
      "0 1 \r\n",
      "0 2 4 \r\n",
      "0 3 6 9 \r\n",
      "0 4 8 12 16 \r\n",
      "0 5 10 15 20 25 \r\n",
      "0 6 12 18 24 30 36 \r\n",
      "0 7 14 21 28 35 42 49 \r\n"
     ]
    }
   ],
   "source": [
    "for x in range(8):\n",
    "    for y in range(x+1):\n",
    "        print(y*x, end = \" \")\n",
    "    print(\"\\r\")"
   ]
  },
  {
   "cell_type": "code",
   "execution_count": 196,
   "metadata": {},
   "outputs": [
    {
     "name": "stdout",
     "output_type": "stream",
     "text": [
      "1 2 3 4 5 6 \r\n",
      "2 3 4 5 6 \r\n",
      "3 4 5 6 \r\n",
      "4 5 6 \r\n",
      "5 6 \r\n",
      "6 \r\n",
      "\r\n"
     ]
    }
   ],
   "source": [
    "for x in (range(7)):\n",
    "    for y in (range(x+1,7,1)):\n",
    "        print(y, end =\" \")\n",
    "    print(\"\\r\")"
   ]
  },
  {
   "cell_type": "code",
   "execution_count": 231,
   "metadata": {},
   "outputs": [
    {
     "name": "stdout",
     "output_type": "stream",
     "text": [
      "5 4 3 2 1     1 2 3 4 5 \r\n",
      "5 4 3 2         2 3 4 5 \r\n",
      "5 4 3             3 4 5 \r\n",
      "5 4                 4 5 \r\n",
      "5                     5 \r\n"
     ]
    }
   ],
   "source": [
    "num = 6\n",
    "rows = 6\n",
    "for i in range(1, rows):\n",
    "        for j in reversed(range(i,rows)):\n",
    "        #for j in range(rows - 1, i, -1):\n",
    "            print(j, end = \" \")\n",
    "        for k in range(i):\n",
    "            print(\"   \", end = \" \")\n",
    "            \n",
    "        for m in range(i,rows):\n",
    "            print(m, end = \" \")\n",
    "        print(\"\\r\")\n",
    "    "
   ]
  },
  {
   "cell_type": "code",
   "execution_count": 224,
   "metadata": {},
   "outputs": [
    {
     "name": "stdout",
     "output_type": "stream",
     "text": [
      "5 4 3 2 1 1 2 3 4 5 \n",
      "\n",
      "5 4 3 2     2 3 4 5 \n",
      "\n",
      "5 4 3         3 4 5 \n",
      "\n",
      "5 4             4 5 \n",
      "\n",
      "5                 5 \n",
      "\n",
      "                    \n",
      "\n"
     ]
    }
   ],
   "source": [
    "rows = 6\n",
    "for i in range(0, rows):\n",
    "    for j in reversed(range(i+1,rows)):\n",
    "        print(j, '', end='')\n",
    "    for l in range(i):\n",
    "        print('    ', end='')\n",
    "    for k in range(i + 1, rows):\n",
    "        print(k, '', end='')\n",
    "    print('\\n')\n"
   ]
  },
  {
   "cell_type": "code",
   "execution_count": 239,
   "metadata": {},
   "outputs": [
    {
     "name": "stdout",
     "output_type": "stream",
     "text": [
      "1 2 3 4 5  \n",
      "2 2 3 4 5  \n",
      "3 3 3 4 5  \n",
      "4 4 4 4 5  \n",
      "5 5 5 5 5  \n"
     ]
    }
   ],
   "source": [
    "num =6\n",
    "for x in range(1,num):\n",
    "    for j in range(1,num):\n",
    "        if (j <= x):\n",
    "            print(x, end = ' ')\n",
    "        else:\n",
    "            print(j, end= ' ')\n",
    "    print(\" \")"
   ]
  },
  {
   "cell_type": "code",
   "execution_count": 252,
   "metadata": {},
   "outputs": [
    {
     "name": "stdout",
     "output_type": "stream",
     "text": [
      "          1 \n",
      "        1 2 \n",
      "      1 2 3 \n",
      "    1 2 3 4 \n",
      "  1 2 3 4 5 \n"
     ]
    }
   ],
   "source": [
    "for x in range(1,6):\n",
    "    num = 1\n",
    "    for y in range(6,0,-1):\n",
    "        if (y > x):\n",
    "            print(\" \", end = ' ')\n",
    "        else:\n",
    "            print(num, end = ' ')\n",
    "            num  = num + 1\n",
    "    print(\"\")"
   ]
  },
  {
   "cell_type": "code",
   "execution_count": 246,
   "metadata": {},
   "outputs": [
    {
     "name": "stdout",
     "output_type": "stream",
     "text": [
      "          1 \n",
      "        1 2 \n",
      "      1 2 3 \n",
      "    1 2 3 4 \n",
      "  1 2 3 4 5 \n"
     ]
    }
   ],
   "source": [
    "rows = 6\n",
    "for row in range(1, rows):\n",
    "    num = 1\n",
    "    for j in range(rows, 0, -1):\n",
    "        if j > row:\n",
    "            print(\" \", end=' ')\n",
    "        else:\n",
    "            print(num, end=' ')\n",
    "            num += 1\n",
    "    print(\"\")"
   ]
  },
  {
   "cell_type": "code",
   "execution_count": 3,
   "metadata": {},
   "outputs": [
    {
     "name": "stdout",
     "output_type": "stream",
     "text": [
      "            11\n",
      "*   \n",
      "           10\n",
      "*  *   \n",
      "          9\n",
      "*  *  *   \n",
      "         8\n",
      "*  *  *  *   \n",
      "        7\n",
      "*  *  *  *  *   \n",
      "       6\n",
      "*  *  *  *  *  *   \n",
      "      5\n",
      "*  *  *  *  *  *  *   \n"
     ]
    }
   ],
   "source": [
    "size = 7\n",
    "m = (2 * size) - 2\n",
    "for i in range(0, size):\n",
    "    for j in range(0, m):\n",
    "        print(end=\" \")\n",
    "    m = m - 1  # decrementing m after each loop\n",
    "    \n",
    "    for j in range(0, i + 1):\n",
    "        print(\"* \", end=' ')\n",
    "    print(\" \")"
   ]
  },
  {
   "cell_type": "code",
   "execution_count": null,
   "metadata": {},
   "outputs": [],
   "source": []
  },
  {
   "cell_type": "code",
   "execution_count": null,
   "metadata": {},
   "outputs": [],
   "source": []
  },
  {
   "cell_type": "code",
   "execution_count": null,
   "metadata": {},
   "outputs": [],
   "source": []
  }
 ],
 "metadata": {
  "kernelspec": {
   "display_name": "Python 3",
   "language": "python",
   "name": "python3"
  },
  "language_info": {
   "codemirror_mode": {
    "name": "ipython",
    "version": 3
   },
   "file_extension": ".py",
   "mimetype": "text/x-python",
   "name": "python",
   "nbconvert_exporter": "python",
   "pygments_lexer": "ipython3",
   "version": "3.6.9"
  }
 },
 "nbformat": 4,
 "nbformat_minor": 4
}
