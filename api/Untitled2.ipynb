{
 "cells": [
  {
   "cell_type": "code",
   "execution_count": 5,
   "metadata": {},
   "outputs": [
    {
     "name": "stdout",
     "output_type": "stream",
     "text": [
      "[1, 3, 5, 7, 9]\n"
     ]
    }
   ],
   "source": [
    "array_nums = [1, 2, 3, 5, 7, 8, 9, 10]\n",
    "odd_ctr = (list(filter(lambda x: (x%2 != 0) , array_nums)))\n",
    "print(odd_ctr)"
   ]
  },
  {
   "cell_type": "code",
   "execution_count": 2,
   "metadata": {},
   "outputs": [
    {
     "name": "stdout",
     "output_type": "stream",
     "text": [
      "malayalam\n",
      "Yes\n"
     ]
    }
   ],
   "source": [
    "def isPalindrome(s):\n",
    "    print(s[::-1])\n",
    "    return s == s[::-1]\n",
    "\n",
    "s = \"malayalam\"\n",
    "ans = isPalindrome(s)\n",
    " \n",
    "if ans:\n",
    "    print(\"Yes\")\n",
    "else:\n",
    "    print(\"No\")"
   ]
  },
  {
   "cell_type": "code",
   "execution_count": 15,
   "metadata": {},
   "outputs": [
    {
     "name": "stdout",
     "output_type": "stream",
     "text": [
      "[10, 9, 8, 7, 5, 3, 2, 1]\n"
     ]
    }
   ],
   "source": [
    "array_nums = [1, 2, 3, 5, 7, 8, 9, 10]\n",
    "tt = array_nums[::-1]\n",
    "print(tt)"
   ]
  },
  {
   "cell_type": "code",
   "execution_count": 5,
   "metadata": {},
   "outputs": [
    {
     "name": "stdout",
     "output_type": "stream",
     "text": [
      "4\n",
      "m ----------- m\n",
      "a ----------- a\n",
      "l ----------- l\n",
      "a ----------- a\n"
     ]
    }
   ],
   "source": [
    "def palindrome(a):\n",
    "    midpart = len(a)//2\n",
    "    print(midpart)\n",
    "    lastpart = len(a)-1\n",
    "    \n",
    "   \n",
    "    for i in range(midpart):\n",
    "        if(a[i] == a[len(a)-i-1]):\n",
    "            print(a[i] ,\"-----------\", a[len(a)-i-1])\n",
    "        else:\n",
    "            print(\"no\")\n",
    "\n",
    "        \n",
    "        \n",
    "\n",
    "#         if a[i]\n",
    "    \n",
    "strin =\"malayalam\"\n",
    "si = palindrome(strin)\n"
   ]
  },
  {
   "cell_type": "code",
   "execution_count": 10,
   "metadata": {},
   "outputs": [
    {
     "name": "stdout",
     "output_type": "stream",
     "text": [
      "m ============== a\n",
      "The entered string is not symmetrical\n"
     ]
    }
   ],
   "source": [
    "def symmetry(a): \n",
    "      \n",
    "    n = len(a) \n",
    "    flag = 0\n",
    "      \n",
    "    # Check if the string's length \n",
    "    # is odd or even \n",
    "    if n%2: \n",
    "        mid = n//2 +1\n",
    "    else: \n",
    "        mid = n//2\n",
    "          \n",
    "    start1 = 0\n",
    "    start2 = mid \n",
    "      \n",
    "    while(start1 < mid and start2 < n): \n",
    "        print(a[start1],\"==============\", a[start2])\n",
    "          \n",
    "        if (a[start1]== a[start2]): \n",
    "            start1 = start1 + 1\n",
    "            start2 = start2 + 1\n",
    "        else: \n",
    "            flag = 1\n",
    "            break\n",
    "       \n",
    "    # Checking the flag variable to  \n",
    "    # check if the string is symmetrical \n",
    "    # or not \n",
    "    if flag == 0: \n",
    "        print(\"The entered string is symmetrical\") \n",
    "    else: \n",
    "        print(\"The entered string is not symmetrical\") \n",
    "    \n",
    "\n",
    "strin =\"malamalam\"\n",
    "ee = symmetry(strin)\n"
   ]
  },
  {
   "cell_type": "code",
   "execution_count": 11,
   "metadata": {},
   "outputs": [
    {
     "name": "stdout",
     "output_type": "stream",
     "text": [
      "Yes\n"
     ]
    }
   ],
   "source": [
    "def isPalindrome(str):\n",
    " \n",
    "    # Run loop from 0 to len/2 \n",
    "    for i in range(0, int(len(str)/2)): \n",
    "        if str[i] != str[len(str)-i-1]:\n",
    "            return False\n",
    "    return True\n",
    " \n",
    "# main function\n",
    "s = \"malayalam\"\n",
    "ans = isPalindrome(s)\n",
    " \n",
    "if (ans):\n",
    "    print(\"Yes\")\n",
    "else:\n",
    "    print(\"No\")"
   ]
  },
  {
   "cell_type": "code",
   "execution_count": 20,
   "metadata": {},
   "outputs": [
    {
     "name": "stdout",
     "output_type": "stream",
     "text": [
      ":::::::::::: {'a': 0, 'e': 0, 'i': 0, 'o': 0, 'u': 0}\n",
      "hello\n",
      "{'a': 3, 'e': 4, 'i': 3, 'o': 5, 'u': 3}\n"
     ]
    }
   ],
   "source": [
    "ip_str = 'Hello,Have you tried our tutorial section yat?'\n",
    "\n",
    "# make it suitable for caseless comparisions\n",
    "ip_str = ip_str.casefold()\n",
    "vowels = 'aeiou'\n",
    "count = 0\n",
    "counts = {}.fromkeys(vowels, 0)\n",
    "print(\"::::::::::::\",counts)\n",
    "ff =[]\n",
    "if \"a\" in counts:\n",
    "    print(\"hello\")\n",
    "for x in ip_str:\n",
    "    if x in vowels:\n",
    "        counts[x]+=1\n",
    "#         if x in counts:\n",
    "#             counts[x]+=1\n",
    "print(counts)\n",
    "\n",
    "#   {'a': 3, 'e': 4, 'i': 3, 'o': 5, 'u': 3}      print(\",\".join(x))"
   ]
  },
  {
   "cell_type": "code",
   "execution_count": 10,
   "metadata": {},
   "outputs": [
    {
     "name": "stdout",
     "output_type": "stream",
     "text": [
      "[100, 400, 550]\n"
     ]
    }
   ],
   "source": [
    "list = [100, 300, 400,550]\n",
    "list.pop(1)\n",
    "print(list)"
   ]
  },
  {
   "cell_type": "code",
   "execution_count": 30,
   "metadata": {},
   "outputs": [],
   "source": [
    "list = [10,20,30,40,55]\n",
    "del list[1]"
   ]
  },
  {
   "cell_type": "markdown",
   "metadata": {},
   "source": [
    "# height of pole = 12 #jump = 3 #sleep = 1"
   ]
  },
  {
   "cell_type": "code",
   "execution_count": 44,
   "metadata": {},
   "outputs": [
    {
     "data": {
      "text/plain": [
       "5"
      ]
     },
     "execution_count": 44,
     "metadata": {},
     "output_type": "execute_result"
    }
   ],
   "source": [
    "#output = 6\n",
    "\n",
    "def monkeyjump(height,jump,sleep):\n",
    "    count = 0\n",
    "    if height ==1:\n",
    "        return 1\n",
    "    else:\n",
    "        while(jump< height):\n",
    "            count+=1\n",
    "            \n",
    "            height = height-(jump-sleep)\n",
    "        count+=1\n",
    "\n",
    "    return (count)\n",
    "    \n",
    "poleheight = 14\n",
    "jump = 4\n",
    "sleep = 1\n",
    "monkeyjump(poleheight, jump,sleep)"
   ]
  },
  {
   "cell_type": "markdown",
   "metadata": {},
   "source": [
    "# minimum approach "
   ]
  },
  {
   "cell_type": "code",
   "execution_count": 129,
   "metadata": {},
   "outputs": [
    {
     "name": "stdout",
     "output_type": "stream",
     "text": [
      ";;;;;;;;;; 2\n",
      "60 <>>>>>>>>>>>> 30\n",
      "130\n"
     ]
    }
   ],
   "source": [
    "# Python3 implementation of the approach \n",
    "  \n",
    "# Function to return the minimum cost \n",
    "def minimumCost(price, n): \n",
    "  \n",
    "    # Sort the price array \n",
    "    price = sorted(price) \n",
    "    totalCost = 0\n",
    "  \n",
    "    # Calcualte minimum price \n",
    "    # of n-2 most costly person \n",
    "    for i in range(n - 1, 1, -2):\n",
    "        print(\";;;;;;;;;;\",i)\n",
    "        if (i == 2): \n",
    "            totalCost += price[2] + price[0] \n",
    "            print(price[2],\"<>>>>>>>>>>>>\",price[0])\n",
    "            \n",
    "        else: \n",
    "  \n",
    "            # Both the ways as discussed above \n",
    "            price_first = price[i] + price[0] + 2 * price[1] \n",
    "            price_second = price[i] + price[i - 1] + 2 * price[0]\n",
    "            totalCost += min(price_first, price_second) \n",
    "            print(price[i] ,\"????????\", price[0],\"??????\",totalCost,\"---\",price[i - 1],\"\\\\\\\\\\\\\\\\\",i,\"----\",price_first,\"---\",price_second)\n",
    "    if (n == 1): \n",
    "        totalCost += price[0]\n",
    "    else: \n",
    "        totalCost += price[1] \n",
    "    return totalCost \n",
    "  \n",
    "# Driver code \n",
    "  \n",
    "price = [30, 40,60,70,50,90] \n",
    "n = len(price) \n",
    "  \n",
    "    \n",
    "# 40+30+70+60+90\n",
    "\n",
    "# 50,40,30\n",
    "print(minimumCost(price, n)) \n",
    "  "
   ]
  },
  {
   "cell_type": "code",
   "execution_count": 127,
   "metadata": {},
   "outputs": [
    {
     "name": "stdout",
     "output_type": "stream",
     "text": [
      "60\n"
     ]
    }
   ],
   "source": [
    "price = [30, 40,60] \n",
    "n = len(price)\n",
    "for i in range(n-1,1,-1):\n",
    "    print(price[i])"
   ]
  },
  {
   "cell_type": "code",
   "execution_count": 5,
   "metadata": {},
   "outputs": [
    {
     "name": "stdout",
     "output_type": "stream",
     "text": [
      "In Class4\n",
      "In Class2\n",
      "In Class1\n",
      "In Class3\n",
      "In Class1\n"
     ]
    }
   ],
   "source": [
    "class Class1: \n",
    "    def m(self): \n",
    "        print(\"In Class1\")   \n",
    "       \n",
    "class Class2(Class1): \n",
    "    def m(self): \n",
    "        print(\"In Class2\") \n",
    "        Class1.m(self)\n",
    "  \n",
    "class Class3(Class1): \n",
    "    def m(self): \n",
    "        print(\"In Class3\")      \n",
    "      \n",
    "class Class4(Class2, Class3): \n",
    "    def m(self): \n",
    "        print(\"In Class4\")    \n",
    "        Class2.m(self) \n",
    "        Class3.m(self) \n",
    "        Class1.m(self) \n",
    "  \n",
    "obj = Class4() \n",
    "obj.m() "
   ]
  },
  {
   "cell_type": "code",
   "execution_count": 4,
   "metadata": {},
   "outputs": [
    {
     "name": "stdout",
     "output_type": "stream",
     "text": [
      "In Class4\n",
      "In Class2\n",
      "In Class1\n",
      "In Class3\n",
      "In Class1\n"
     ]
    }
   ],
   "source": [
    "# Python Program to depict multiple inheritance \n",
    "# when we try to call m of Class1 from both m of \n",
    "# Class2 and m of Class3 \n",
    "\n",
    "class Class1: \n",
    "\tdef m(self): \n",
    "\t\tprint(\"In Class1\") \n",
    "\t\n",
    "class Class2(Class1): \n",
    "\tdef m(self): \n",
    "\t\tprint(\"In Class2\") \n",
    "\t\tClass1.m(self) \n",
    "\n",
    "class Class3(Class1): \n",
    "\tdef m(self): \n",
    "\t\tprint(\"In Class3\") \n",
    "\t\tClass1.m(self) \n",
    "\t\n",
    "class Class4(Class2, Class3): \n",
    "\tdef m(self): \n",
    "\t\tprint(\"In Class4\") \n",
    "\t\tClass2.m(self) \n",
    "\t\tClass3.m(self) \n",
    "\t\n",
    "obj = Class4() \n",
    "obj.m() \n"
   ]
  },
  {
   "cell_type": "code",
   "execution_count": null,
   "metadata": {},
   "outputs": [],
   "source": []
  }
 ],
 "metadata": {
  "kernelspec": {
   "display_name": "Python 3",
   "language": "python",
   "name": "python3"
  },
  "language_info": {
   "codemirror_mode": {
    "name": "ipython",
    "version": 3
   },
   "file_extension": ".py",
   "mimetype": "text/x-python",
   "name": "python",
   "nbconvert_exporter": "python",
   "pygments_lexer": "ipython3",
   "version": "3.6.9"
  }
 },
 "nbformat": 4,
 "nbformat_minor": 4
}
